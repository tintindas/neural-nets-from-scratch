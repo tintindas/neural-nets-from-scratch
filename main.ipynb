{
 "cells": [
  {
   "cell_type": "markdown",
   "metadata": {},
   "source": [
    "# Neural Networks from Scratch\n",
    "\n",
    "This notebook follows the [Neural Networks from Scratch](https://youtu.be/Wo5dMEP_BbI) series by [sentdex](https://www.youtube.com/c/sentdex) on Youtube."
   ]
  },
  {
   "cell_type": "markdown",
   "metadata": {},
   "source": [
    "## Neuron Code\n",
    "\n",
    "Basic code for a single neuron.\n",
    "\n",
    "Covers everything from video 1 of the linked playlist."
   ]
  },
  {
   "cell_type": "code",
   "execution_count": 2,
   "metadata": {},
   "outputs": [
    {
     "name": "stdout",
     "output_type": "stream",
     "text": [
      "Output: 21.79\n"
     ]
    }
   ],
   "source": [
    "inputs = [1.2, 5.1, 2.3]\n",
    "weights = [1.5, 2.7, 1.4]\n",
    "bias = 3\n",
    "\n",
    "output = inputs[0] * weights[0] + inputs[1] * weights[1] + inputs[2] * weights[2] + bias\n",
    "print(f\"Output: {output}\")\n"
   ]
  },
  {
   "cell_type": "markdown",
   "metadata": {},
   "source": [
    "## Coding a Layer\n",
    "\n"
   ]
  },
  {
   "cell_type": "code",
   "execution_count": null,
   "metadata": {},
   "outputs": [],
   "source": []
  }
 ],
 "metadata": {
  "kernelspec": {
   "display_name": "Python 3.10.5 ('minimal_ds')",
   "language": "python",
   "name": "python3"
  },
  "language_info": {
   "codemirror_mode": {
    "name": "ipython",
    "version": 3
   },
   "file_extension": ".py",
   "mimetype": "text/x-python",
   "name": "python",
   "nbconvert_exporter": "python",
   "pygments_lexer": "ipython3",
   "version": "3.10.5"
  },
  "orig_nbformat": 4,
  "vscode": {
   "interpreter": {
    "hash": "555ff6d4deb73f3033850dfc0c763ce1f54c366b57a82b995bf056b52f3800c2"
   }
  }
 },
 "nbformat": 4,
 "nbformat_minor": 2
}
