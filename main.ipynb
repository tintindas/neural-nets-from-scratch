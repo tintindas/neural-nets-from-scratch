{
 "cells": [
  {
   "cell_type": "markdown",
   "metadata": {},
   "source": [
    "# Neural Networks from Scratch\n",
    "\n",
    "This notebook follows the [Neural Networks from Scratch](https://youtu.be/Wo5dMEP_BbI) series by [sentdex](https://www.youtube.com/c/sentdex) on Youtube."
   ]
  },
  {
   "cell_type": "markdown",
   "metadata": {},
   "source": [
    "## Neuron Code\n",
    "\n",
    "A neuron of the network essentially takes inputs and generates an output by multiplying weights with the inputs and adding a bias.\n",
    "\n",
    "$ output = \\sum{input_{ij} \\times weight_{ij}} + bias $\n",
    "\n",
    "Covers everything from video 1 of the linked playlist."
   ]
  },
  {
   "cell_type": "code",
   "execution_count": 2,
   "metadata": {},
   "outputs": [
    {
     "name": "stdout",
     "output_type": "stream",
     "text": [
      "Output: 21.79\n"
     ]
    }
   ],
   "source": [
    "inputs = [1.2, 5.1, 2.3]\n",
    "weights = [1.5, 2.7, 1.4]\n",
    "bias = 3\n",
    "\n",
    "output = inputs[0] * weights[0] + inputs[1] * weights[1] + inputs[2] * weights[2] + bias\n",
    "print(f\"Output: {output}\")\n"
   ]
  },
  {
   "cell_type": "markdown",
   "metadata": {},
   "source": [
    "## Coding a Layer\n",
    "\n",
    "Tweaking the weights and biases of a layer lets us influence the outputs. These outputs can be used as the inputs to next layer of neurons in the network.\n",
    "\n",
    "Covers everything from video 2 of the playlist."
   ]
  },
  {
   "cell_type": "code",
   "execution_count": 8,
   "metadata": {},
   "outputs": [
    {
     "name": "stdout",
     "output_type": "stream",
     "text": [
      "Output: [4.8, 1.21, 2.385]\n"
     ]
    }
   ],
   "source": [
    "inputs = [1, 2, 3, 2.5]\n",
    "\n",
    "weights1 = [0.2, 0.8, -0.5, 1]\n",
    "weights2 = [0.5, -0.91, 0.26, -0.5]\n",
    "weights3 = [-0.26, -0.27, 0.17, 0.87]\n",
    " \n",
    "bias1 = 2\n",
    "bias2 = 3\n",
    "bias3= 0.5\n",
    "\n",
    "output = [inputs[0] * weights1[0] + inputs[1] * weights1[1] + inputs[2] * weights1[2] + inputs[3] * weights1[3] + bias1,\n",
    "          inputs[0] * weights2[0] + inputs[1] * weights2[1] + inputs[2] * weights2[2] + inputs[3] * weights2[3] + bias2,\n",
    "          inputs[0] * weights3[0] + inputs[1] * weights3[1] + inputs[2] * weights3[2] + inputs[3] * weights3[3] + bias3]\n",
    "          \n",
    "print(f\"Output: {output}\")"
   ]
  },
  {
   "cell_type": "markdown",
   "metadata": {},
   "source": [
    "## The Dot Product\n",
    "\n",
    "Covers everything from video 3 of the linked playlist."
   ]
  },
  {
   "cell_type": "markdown",
   "metadata": {},
   "source": [
    "Using loops to clean up our code."
   ]
  },
  {
   "cell_type": "code",
   "execution_count": 10,
   "metadata": {},
   "outputs": [
    {
     "name": "stdout",
     "output_type": "stream",
     "text": [
      "Output: [4.8, 1.21, 2.385]\n"
     ]
    }
   ],
   "source": [
    "inputs = [1, 2, 3, 2.5]\n",
    "\n",
    "weights = [[0.2, 0.8, -0.5, 1],\n",
    "           [0.5, -0.91, 0.26, -0.5],\n",
    "           [-0.26, -0.27, 0.17, 0.87]]\n",
    "\n",
    "biases = [2, 3, 0.5]\n",
    "\n",
    "layer_outputs = []\n",
    "for neuron_weights, neuron_bias in zip(weights, biases):\n",
    "    neuron_output = 0\n",
    "    for n_input, weight in zip(inputs, neuron_weights):\n",
    "        neuron_output += n_input * weight\n",
    "    neuron_output += neuron_bias\n",
    "    layer_outputs.append(neuron_output)\n",
    "\n",
    "print(f\"Output: {layer_outputs}\")"
   ]
  },
  {
   "cell_type": "code",
   "execution_count": 11,
   "metadata": {},
   "outputs": [],
   "source": [
    "import numpy as np"
   ]
  },
  {
   "cell_type": "markdown",
   "metadata": {},
   "source": [
    "Code for a single neuron using the numpy library."
   ]
  },
  {
   "cell_type": "code",
   "execution_count": 12,
   "metadata": {},
   "outputs": [
    {
     "name": "stdout",
     "output_type": "stream",
     "text": [
      "Output: 4.8\n"
     ]
    }
   ],
   "source": [
    "inputs = [1, 2, 3, 2.5]\n",
    "weights = [0.2, 0.8, -0.5, 1]\n",
    "bias = 2\n",
    "\n",
    "output = np.dot(weights, inputs) + bias\n",
    "\n",
    "print(f\"Output: {output}\")"
   ]
  },
  {
   "cell_type": "markdown",
   "metadata": {},
   "source": [
    "Code for a layer of neurons using numpy library."
   ]
  },
  {
   "cell_type": "code",
   "execution_count": 22,
   "metadata": {},
   "outputs": [
    {
     "name": "stdout",
     "output_type": "stream",
     "text": [
      "Shape of inputs: (4,)\n",
      "Shape of weights: (3, 4)\n",
      "Output: [4.8   1.21  2.385]\n"
     ]
    }
   ],
   "source": [
    "inputs = np.array([1, 2, 3, 2.5])\n",
    "\n",
    "weights = np.array([[0.2, 0.8, -0.5, 1],\n",
    "           [0.5, -0.91, 0.26, -0.5],\n",
    "           [-0.26, -0.27, 0.17, 0.87]])\n",
    "\n",
    "biases = [2, 3, 0.5]\n",
    "\n",
    "outputs = np.dot(weights, inputs) + biases\n",
    "\n",
    "print(f\"Shape of inputs: {inputs.shape}\")\n",
    "print(f\"Shape of weights: {weights.shape}\")\n",
    "\n",
    "print(f\"Output: {outputs}\")"
   ]
  },
  {
   "cell_type": "markdown",
   "metadata": {},
   "source": [
    "# Batches, Layers and Objects\n",
    "\n",
    "__Aside__: GPUs are used in the training of neural networks because they have more cores and thus we can exploit parallelisation more using them than a CPU.\n",
    "\n",
    "Increase in batch size leads to less movement of the fitted curve. However, showing the model all the data at once might lead to overfitting.\n",
    "\n",
    "Covers video 4 of the linked playlist.\n"
   ]
  },
  {
   "cell_type": "code",
   "execution_count": 29,
   "metadata": {},
   "outputs": [
    {
     "name": "stdout",
     "output_type": "stream",
     "text": [
      "Shape of inputs: (3, 4)\n",
      "Shape of weights: (4, 3)\n",
      "Output:\n",
      " [[ 4.8    1.21   2.385]\n",
      " [ 8.9   -1.81   0.2  ]\n",
      " [ 1.41   1.051  0.026]]\n"
     ]
    }
   ],
   "source": [
    "inputs = np.array([[1, 2, 3, 2.5],\n",
    "                   [2, 5, -1,  2], \n",
    "                   [-1.5, 2.7, 3.3, -0.8]])\n",
    "\n",
    "weights = np.array([[0.2, 0.8, -0.5, 1],\n",
    "           [0.5, -0.91, 0.26, -0.5],\n",
    "           [-0.26, -0.27, 0.17, 0.87]])\n",
    "\n",
    "biases = [2, 3, 0.5]\n",
    "\n",
    "print(f\"Shape of inputs: {inputs.shape}\")\n",
    "print(f\"Shape of weights: {weights.T.shape}\")\n",
    "\n",
    "outputs = np.dot(inputs, weights.T) + biases\n",
    "print(f\"Output:\\n {outputs}\")"
   ]
  },
  {
   "cell_type": "markdown",
   "metadata": {},
   "source": [
    "Adding another layer"
   ]
  },
  {
   "cell_type": "code",
   "execution_count": 31,
   "metadata": {},
   "outputs": [
    {
     "name": "stdout",
     "output_type": "stream",
     "text": [
      "Layer 1 Output:\n",
      " [[ 4.8    1.21   2.385]\n",
      " [ 8.9   -1.81   0.2  ]\n",
      " [ 1.41   1.051  0.026]]\n",
      "Layer 2 Output:\n",
      " [[ 0.5031  -1.04185 -2.03875]\n",
      " [ 0.2434  -2.7332  -5.7633 ]\n",
      " [-0.99314  1.41254 -0.35655]]\n"
     ]
    }
   ],
   "source": [
    "inputs = np.array([[1, 2, 3, 2.5],\n",
    "                   [2, 5, -1,  2], \n",
    "                   [-1.5, 2.7, 3.3, -0.8]])\n",
    "\n",
    "weights1 = np.array([[0.2, 0.8, -0.5, 1],\n",
    "           [0.5, -0.91, 0.26, -0.5],\n",
    "           [-0.26, -0.27, 0.17, 0.87]])\n",
    "\n",
    "biases1 = [2, 3, 0.5]\n",
    "\n",
    "weights2 = np.array([[0.1, -0.14, 0.5],\n",
    "           [-0.5, 0.12, -0.33],\n",
    "           [-0.44, 0.73, -0.13]])\n",
    "\n",
    "biases2 = [-1, 2, -0.5]\n",
    "\n",
    "layer1_outputs = np.dot(inputs, weights1.T) + biases1\n",
    "layer2_outputs = np.dot(layer1_outputs, weights2.T) + biases2\n",
    "\n",
    "\n",
    "print(f\"Layer 1 Output:\\n {layer1_outputs}\")\n",
    "print(f\"Layer 2 Output:\\n {layer2_outputs}\")"
   ]
  },
  {
   "cell_type": "markdown",
   "metadata": {},
   "source": [
    "Adding layers like this would get very ugly very quickly so we make the Layer into a class and create an object of the class every time we want a new layer."
   ]
  },
  {
   "cell_type": "code",
   "execution_count": 44,
   "metadata": {},
   "outputs": [],
   "source": [
    "X = np.array([[1, 2, 3, 2.5],\n",
    "              [2, 5, -1,  2], \n",
    "              [-1.5, 2.7, 3.3, -0.8]])"
   ]
  },
  {
   "cell_type": "code",
   "execution_count": 45,
   "metadata": {},
   "outputs": [],
   "source": [
    "class Layer_Dense:\n",
    "    def __init__(self, n_inputs, n_neurons):\n",
    "        self.weights = 0.1 * np.random.randn(n_inputs, n_neurons)\n",
    "        self.biases = np.zeros((1, n_neurons))\n",
    "    def forward(self, inputs):\n",
    "        self.output = np.dot(inputs, self.weights) + self.biases"
   ]
  },
  {
   "cell_type": "code",
   "execution_count": 51,
   "metadata": {},
   "outputs": [
    {
     "name": "stdout",
     "output_type": "stream",
     "text": [
      "Layer 1 Output:\n",
      " [[ 0.10758131  1.03983522  0.24462411  0.31821498  0.18851053]\n",
      " [-0.08349796  0.70846411  0.00293357  0.44701525  0.36360538]\n",
      " [-0.50763245  0.55688422  0.07987797 -0.34889573  0.04553042]]\n",
      "Layer 2 Output:\n",
      " [[ 0.148296   -0.08397602]\n",
      " [ 0.14100315 -0.01340469]\n",
      " [ 0.20124979 -0.07290616]]\n"
     ]
    }
   ],
   "source": [
    "# Setting seed to get same random values as the video series\n",
    "np.random.seed(0)\n",
    "\n",
    "layer1 = Layer_Dense(4, 5)\n",
    "layer2 = Layer_Dense(5, 2)\n",
    "\n",
    "layer1.forward(X)\n",
    "print(f\"Layer 1 Output:\\n {layer1.output}\")\n",
    "\n",
    "layer2.forward(layer1.output)\n",
    "print(f\"Layer 2 Output:\\n {layer2.output}\")\n"
   ]
  },
  {
   "cell_type": "markdown",
   "metadata": {},
   "source": [
    "## Activation Functions\n",
    "\n",
    "Covers video 5 of the playlist."
   ]
  },
  {
   "cell_type": "markdown",
   "metadata": {},
   "source": [
    "The non-linearity of the activation function helps model non-linear distributions."
   ]
  },
  {
   "cell_type": "code",
   "execution_count": 41,
   "metadata": {},
   "outputs": [],
   "source": [
    "class Activation_RelU:\n",
    "    def forward(self, inputs):\n",
    "        self.output = np.maximum(0, inputs)"
   ]
  },
  {
   "cell_type": "code",
   "execution_count": 57,
   "metadata": {},
   "outputs": [],
   "source": [
    "from numpy import uint8\n",
    "\n",
    "# Creates a spiral dataset\n",
    "def create_data(points, classes):\n",
    "    X = np.zeros((points * classes, 2))\n",
    "    y = np.zeros(points * classes, dtype=uint8)\n",
    "    for class_number in range(classes):\n",
    "        ix = range(points * class_number, points * (class_number + 1))\n",
    "        r = np.linspace(0.0, 1, points) #radius\n",
    "        t = np.linspace(class_number * 4, (class_number - 1) * 4, points) + np.random.randn(points) * 0.2\n",
    "        X[ix] = np.c_[r * np.sin(t * 2.5), r * np.cos(t * 2.5)]\n",
    "        y[ix] = class_number\n",
    "    return X, y"
   ]
  },
  {
   "cell_type": "markdown",
   "metadata": {},
   "source": [
    "A look at the data we have generated."
   ]
  },
  {
   "cell_type": "code",
   "execution_count": 79,
   "metadata": {},
   "outputs": [
    {
     "data": {
      "image/png": "[encoded data removed]",
      "text/plain": [
       "<Figure size 432x288 with 1 Axes>"
      ]
     },
     "metadata": {
      "needs_background": "light"
     },
     "output_type": "display_data"
    },
    {
     "data": {
      "image/png": "[encoded data removed]",
      "text/plain": [
       "<Figure size 432x288 with 1 Axes>"
      ]
     },
     "metadata": {
      "needs_background": "light"
     },
     "output_type": "display_data"
    }
   ],
   "source": [
    "import matplotlib.pyplot as plt\n",
    "\n",
    "X, y = create_data(100, 3)\n",
    "\n",
    "f1 = plt.figure(1)\n",
    "plt.scatter(X[:, 0], X[:, 1])\n",
    "\n",
    "f2 = plt.figure(2)\n",
    "plt.scatter(X[:, 0], X[:, 1], c=y, cmap='Set2')\n",
    "\n",
    "plt.show()\n"
   ]
  },
  {
   "cell_type": "code",
   "execution_count": 82,
   "metadata": {},
   "outputs": [
    {
     "name": "stdout",
     "output_type": "stream",
     "text": [
      "Output for Layer 1 forwards pass:\n",
      " [[ 0.00000000e+00  0.00000000e+00  0.00000000e+00  0.00000000e+00\n",
      "   0.00000000e+00]\n",
      " [-2.29046741e-04 -1.87657982e-05 -4.49277498e-04 -1.31352756e-03\n",
      "  -6.38559777e-06]\n",
      " [-4.23126508e-04  7.97793713e-05 -7.42698768e-04 -2.78755081e-03\n",
      "   6.33103547e-05]\n",
      " ...\n",
      " [-5.34509325e-03 -7.08527504e-02 -6.41775981e-02  1.91472309e-01\n",
      "  -4.63596301e-02]\n",
      " [-2.23590563e-02 -9.82580785e-02 -1.17385011e-01  1.75954807e-01\n",
      "  -6.39042535e-02]\n",
      " [ 3.92163937e-03 -5.16923892e-02 -3.19694604e-02  1.86567980e-01\n",
      "  -3.40253049e-02]]\n",
      "Output for Layer 1 after passing through RelU activation:\n",
      " [[0.00000000e+00 0.00000000e+00 0.00000000e+00 0.00000000e+00\n",
      "  0.00000000e+00]\n",
      " [0.00000000e+00 0.00000000e+00 0.00000000e+00 0.00000000e+00\n",
      "  0.00000000e+00]\n",
      " [0.00000000e+00 7.97793713e-05 0.00000000e+00 0.00000000e+00\n",
      "  6.33103547e-05]\n",
      " ...\n",
      " [0.00000000e+00 0.00000000e+00 0.00000000e+00 1.91472309e-01\n",
      "  0.00000000e+00]\n",
      " [0.00000000e+00 0.00000000e+00 0.00000000e+00 1.75954807e-01\n",
      "  0.00000000e+00]\n",
      " [3.92163937e-03 0.00000000e+00 0.00000000e+00 1.86567980e-01\n",
      "  0.00000000e+00]]\n"
     ]
    }
   ],
   "source": [
    "layer1 = Layer_Dense(2, 5)\n",
    "activation1 = Activation_RelU()\n",
    "\n",
    "layer1.forward(X)\n",
    "print(f\"Output for Layer 1 forwards pass:\\n {layer1.output}\")\n",
    "\n",
    "activation1.forward(layer1.output)\n",
    "print(f\"Output for Layer 1 after passing through RelU activation:\\n {activation1.output}\")"
   ]
  }
 ],
 "metadata": {
  "kernelspec": {
   "display_name": "Python 3.10.5 ('minimal_ds')",
   "language": "python",
   "name": "python3"
  },
  "language_info": {
   "codemirror_mode": {
    "name": "ipython",
    "version": 3
   },
   "file_extension": ".py",
   "mimetype": "text/x-python",
   "name": "python",
   "nbconvert_exporter": "python",
   "pygments_lexer": "ipython3",
   "version": "3.10.5"
  },
  "orig_nbformat": 4,
  "vscode": {
   "interpreter": {
    "hash": "555ff6d4deb73f3033850dfc0c763ce1f54c366b57a82b995bf056b52f3800c2"
   }
  }
 },
 "nbformat": 4,
 "nbformat_minor": 2
}
